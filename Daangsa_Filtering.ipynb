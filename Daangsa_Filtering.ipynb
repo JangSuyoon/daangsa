{
  "cells": [
    {
      "cell_type": "markdown",
      "metadata": {
        "id": "view-in-github",
        "colab_type": "text"
      },
      "source": [
        "<a href=\"https://colab.research.google.com/github/JangSuyoon/daangsa/blob/main/Daangsa_Filtering.ipynb\" target=\"_parent\"><img src=\"https://colab.research.google.com/assets/colab-badge.svg\" alt=\"Open In Colab\"/></a>"
      ]
    },
    {
      "cell_type": "code",
      "execution_count": null,
      "metadata": {
        "colab": {
          "background_save": true
        },
        "id": "dqQHC_vVJy0n"
      },
      "outputs": [],
      "source": [
        "# python 3.9\n",
        "import pandas as pd\n",
        "import numpy as np\n",
        "import matplotlib.pyplot as plt\n",
        "filename='excel.xlsx'\n",
        "# 엑셀 파일 읽어 오기\n",
        "df = pd.read_excel(filename)\n",
        "\n",
        "print(df)\n"
      ]
    },
    {
      "cell_type": "code",
      "execution_count": null,
      "metadata": {
        "colab": {
          "background_save": true
        },
        "id": "My_c8Uk67Hjo"
      },
      "outputs": [],
      "source": [
        "# 원하는 컬럼만 가져오기\n",
        "price = pd.read_excel(filename, sheet_name = 0, usecols = 'B')\n",
        "print(price)\n",
        "\n",
        "data=len(df)//5 #하위 20%\n",
        "\n",
        "price_min = price.sort_values('가격', ascending=True).head(data)\n",
        "print(price_min)\n",
        "\n",
        "price_max = price.sort_values('가격', ascending=True).tail(data)\n",
        "print(price_max)\n",
        "\n",
        "conditionList=[\n",
        "    (df['가격'] <= 1503863),\n",
        "    (df['가격'] > 1503863) & (df['가격'] <2643773),\n",
        "    (df['가격'] >= 2643773)]\n",
        "#print(conditionList)\n",
        "choicelist=[3,0,3]\n",
        "df['price']=np.select(conditionList,choicelist,default='No specified')\n",
        "\n",
        "df = df.astype({'price':'int'})\n",
        "print(df)"
      ]
    },
    {
      "cell_type": "code",
      "execution_count": null,
      "metadata": {
        "colab": {
          "background_save": true
        },
        "id": "h2bvsTgoZvvI"
      },
      "outputs": [],
      "source": [
        "plt.plot(price)"
      ]
    },
    {
      "cell_type": "code",
      "execution_count": null,
      "metadata": {
        "colab": {
          "background_save": true
        },
        "id": "Vgw9n0I8cBF4"
      },
      "outputs": [],
      "source": [
        "data=len(df)//5 #하위 20%\n",
        "review = pd.read_excel(filename, sheet_name = 0, usecols = 'C')\n",
        "review_min = review.sort_values('리뷰개수', ascending=True).head(data)\n",
        "print(review_min)\n",
        "\n",
        "condList=[df['리뷰개수']<=16,\n",
        "          df['리뷰개수']>16]\n",
        "choiceList=[2,0]\n",
        "df['review']=np.select(condList,choiceList,default='No specified')\n",
        "df = df.astype({'review':'int'})\n",
        "print(df)"
      ]
    },
    {
      "cell_type": "code",
      "execution_count": null,
      "metadata": {
        "colab": {
          "background_save": true
        },
        "id": "MsUaUxYRcMA0"
      },
      "outputs": [],
      "source": [
        "send = pd.read_excel(filename, sheet_name = 0, usecols = 'E')\n",
        "\n",
        "#df[df['거래 종류'].str.contains('택배거래, 직거래')]\n",
        "take_df = ~df['거래 종류'].str.contains('직거래') #택배거래\n",
        "gic_df = df['거래 종류'].str.contains('직거래')\n",
        "#print(take_df)\n",
        "\n",
        "condList=[take_df,gic_df]\n",
        "choiceList=[2,0]\n",
        "\n",
        "df['\bsend_box']=np.select(condList,choiceList,default='No specified')\n",
        "df = df.astype({'\bsend_box':'int'})\n",
        "print(df)"
      ]
    },
    {
      "cell_type": "code",
      "execution_count": null,
      "metadata": {
        "colab": {
          "background_save": true
        },
        "id": "-r-zDNRgeEJN"
      },
      "outputs": [],
      "source": [
        "data=len(df)//10 #하위 10%\n",
        "date = pd.read_excel(filename, sheet_name = 0, usecols = 'D')\n",
        "date_data = date.sort_values('날짜', ascending=True)\n",
        "date_min = date.sort_values('날짜', ascending=True).head(data)\n",
        "date_rest = date.sort_values('날짜', ascending=True)[11:]\n",
        "#print(date_min)\n",
        "#print(date_rest)\n",
        "\n",
        "date_2020 = df['날짜'].str.contains('2020|2019')\n",
        "date_20 = ~df['날짜'].str.contains('2020|2019')\n",
        "#print(date_2020)\n",
        "\n",
        "condList=[date_2020,date_20]\n",
        "choiceList=[1,0]\n",
        "#print(condList)\n",
        "#type(condList) #list\n",
        "#df['\bdate']=np.select(condList,choiceList,default='No specified')\n",
        "#pd.merge(df, df['date'])\n",
        "#print(df)\n",
        "\n",
        "\n",
        "df['\bdate']=np.select(condList,choiceList,default='No specified')\n",
        "df = df.astype({'\bdate':'int'})\n",
        "print(df)"
      ]
    },
    {
      "cell_type": "code",
      "execution_count": null,
      "metadata": {
        "colab": {
          "background_save": true,
          "base_uri": "https://localhost:8080/",
          "height": 515
        },
        "id": "jK5wahfuoVax",
        "outputId": "9575fa5b-e136-443a-f251-fe3498b6c4a3"
      },
      "outputs": [
        {
          "ename": "NameError",
          "evalue": "ignored",
          "output_type": "error",
          "traceback": [
            "\u001b[0;31m---------------------------------------------------------------------------\u001b[0m",
            "\u001b[0;31mNameError\u001b[0m                                 Traceback (most recent call last)",
            "\u001b[0;32m<ipython-input-1-fe42b2480a35>\u001b[0m in \u001b[0;36m<module>\u001b[0;34m()\u001b[0m\n\u001b[1;32m      1\u001b[0m \u001b[0;31m#sum = df['price']+df['review']+df['send_box']\u001b[0m\u001b[0;34m\u001b[0m\u001b[0;34m\u001b[0m\u001b[0;34m\u001b[0m\u001b[0m\n\u001b[0;32m----> 2\u001b[0;31m \u001b[0mdf\u001b[0m\u001b[0;34m[\u001b[0m\u001b[0;34m'sum'\u001b[0m\u001b[0;34m]\u001b[0m\u001b[0;34m=\u001b[0m\u001b[0mdf\u001b[0m\u001b[0;34m[\u001b[0m\u001b[0;34m'price'\u001b[0m\u001b[0;34m]\u001b[0m\u001b[0;34m+\u001b[0m\u001b[0mdf\u001b[0m\u001b[0;34m[\u001b[0m\u001b[0;34m'review'\u001b[0m\u001b[0;34m]\u001b[0m\u001b[0;34m+\u001b[0m\u001b[0mdf\u001b[0m\u001b[0;34m[\u001b[0m\u001b[0;34m'\bsend_box'\u001b[0m\u001b[0;34m]\u001b[0m\u001b[0;34m+\u001b[0m\u001b[0mdf\u001b[0m\u001b[0;34m[\u001b[0m\u001b[0;34m'date'\u001b[0m\u001b[0;34m]\u001b[0m\u001b[0;34m\u001b[0m\u001b[0;34m\u001b[0m\u001b[0m\n\u001b[0m\u001b[1;32m      3\u001b[0m \u001b[0mprint\u001b[0m\u001b[0;34m(\u001b[0m\u001b[0mdf\u001b[0m\u001b[0;34m)\u001b[0m\u001b[0;34m\u001b[0m\u001b[0;34m\u001b[0m\u001b[0m\n",
            "\u001b[0;31mNameError\u001b[0m: name 'df' is not defined"
          ]
        }
      ],
      "source": [
        "#sum = df['price']+df['review']+df['send_box']\n",
        "df['sum']=df['price']+df['review']+df['\bsend_box']+df['date']\n",
        "print(df)"
      ]
    },
    {
      "cell_type": "code",
      "execution_count": null,
      "metadata": {
        "id": "dD3OXGDmOTEn"
      },
      "outputs": [],
      "source": []
    }
  ],
  "metadata": {
    "colab": {
      "provenance": [],
      "include_colab_link": true
    },
    "kernelspec": {
      "display_name": "Python 3",
      "name": "python3"
    },
    "language_info": {
      "name": "python"
    }
  },
  "nbformat": 4,
  "nbformat_minor": 0
}